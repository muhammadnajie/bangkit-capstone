{
  "nbformat": 4,
  "nbformat_minor": 0,
  "metadata": {
    "kernelspec": {
      "name": "python3",
      "display_name": "Python 3",
      "language": "python"
    },
    "language_info": {
      "name": "python",
      "version": "3.6.6",
      "mimetype": "text/x-python",
      "codemirror_mode": {
        "name": "ipython",
        "version": 3
      },
      "pygments_lexer": "ipython3",
      "nbconvert_exporter": "python",
      "file_extension": ".py"
    },
    "colab": {
      "name": "Copy of optical-character-recognition.ipynb",
      "provenance": [],
      "collapsed_sections": []
    },
    "accelerator": "GPU"
  },
  "cells": [
    {
      "cell_type": "code",
      "metadata": {
        "id": "Zhxzmno0eY5e",
        "colab": {
          "base_uri": "https://localhost:8080/"
        },
        "outputId": "bbec39d7-8437-4c26-b503-7e0b1ac74b01"
      },
      "source": [
        "!wget https://github.com/muhammadnajie/ronelo-homecare-apps/raw/main/datasets/trdg_dataset.zip"
      ],
      "execution_count": 1,
      "outputs": [
        {
          "output_type": "stream",
          "text": [
            "--2021-05-28 09:45:18--  https://github.com/muhammadnajie/ronelo-homecare-apps/raw/main/datasets/trdg_dataset.zip\n",
            "Resolving github.com (github.com)... 140.82.121.4\n",
            "Connecting to github.com (github.com)|140.82.121.4|:443... connected.\n",
            "HTTP request sent, awaiting response... 302 Found\n",
            "Location: https://raw.githubusercontent.com/muhammadnajie/ronelo-homecare-apps/main/datasets/trdg_dataset.zip [following]\n",
            "--2021-05-28 09:45:18--  https://raw.githubusercontent.com/muhammadnajie/ronelo-homecare-apps/main/datasets/trdg_dataset.zip\n",
            "Resolving raw.githubusercontent.com (raw.githubusercontent.com)... 185.199.110.133, 185.199.111.133, 185.199.109.133, ...\n",
            "Connecting to raw.githubusercontent.com (raw.githubusercontent.com)|185.199.110.133|:443... connected.\n",
            "HTTP request sent, awaiting response... 200 OK\n",
            "Length: 41819373 (40M) [application/zip]\n",
            "Saving to: ‘trdg_dataset.zip’\n",
            "\n",
            "trdg_dataset.zip    100%[===================>]  39.88M   101MB/s    in 0.4s    \n",
            "\n",
            "2021-05-28 09:45:20 (101 MB/s) - ‘trdg_dataset.zip’ saved [41819373/41819373]\n",
            "\n"
          ],
          "name": "stdout"
        }
      ]
    },
    {
      "cell_type": "code",
      "metadata": {
        "id": "_WQGvXJe-H7I"
      },
      "source": [
        "!unzip -q trdg_dataset.zip -d ."
      ],
      "execution_count": 2,
      "outputs": []
    },
    {
      "cell_type": "code",
      "metadata": {
        "colab": {
          "base_uri": "https://localhost:8080/"
        },
        "id": "LRKOaNINK-pQ",
        "outputId": "00eb5c7e-13d2-462e-a761-d9e75fc5eb2f"
      },
      "source": [
        "!ls"
      ],
      "execution_count": 3,
      "outputs": [
        {
          "output_type": "stream",
          "text": [
            "sample_data  test  train  trdg_dataset.zip\n"
          ],
          "name": "stdout"
        }
      ]
    },
    {
      "cell_type": "code",
      "metadata": {
        "_uuid": "8f2839f25d086af736a60e9eeb907d3b93b6e0e5",
        "_cell_guid": "b1076dfc-b9ad-4769-8c92-a6c4dae69d19",
        "trusted": true,
        "id": "n5oMoDzjwk3R"
      },
      "source": [
        "import numpy as np \n",
        "import matplotlib.pyplot as plt\n",
        "import tensorflow as tf\n",
        "from tensorflow import keras\n",
        "import string\n",
        "from PIL import Image\n",
        "from sklearn.utils import shuffle\n",
        "from tensorflow.keras.layers import (\n",
        "    Input, Conv2D, MaxPool2D, \n",
        "    BatchNormalization, Bidirectional, LSTM,\n",
        "    Softmax\n",
        ")\n",
        "import csv\n",
        "from PIL import Image\n",
        "from time import process_time"
      ],
      "execution_count": 4,
      "outputs": []
    },
    {
      "cell_type": "code",
      "metadata": {
        "id": "aMN5sxz7JFgx"
      },
      "source": [
        "filenames = []\n",
        "contents   = []\n",
        "with open(\"train/sentences.csv\", \"r\") as f:\n",
        "  reader = csv.DictReader(f, delimiter=',')\n",
        "  for line in reader:\n",
        "    filenames.append(line['name'])\n",
        "    contents.append(line['content'])"
      ],
      "execution_count": 5,
      "outputs": []
    },
    {
      "cell_type": "code",
      "metadata": {
        "colab": {
          "base_uri": "https://localhost:8080/"
        },
        "id": "BWWhwmDVLQEv",
        "outputId": "c65e596f-5df7-4cbc-ecad-683c4052b7d0"
      },
      "source": [
        "X = []\n",
        "\n",
        "start_time = process_time()\n",
        "\n",
        "print(\"Process: loading images into memory ....\")\n",
        "\n",
        "for fn in filenames:\n",
        "  with Image.open(f'train/{fn}', 'r') as img:\n",
        "    img = img.resize((784, 32), Image.ANTIALIAS)\n",
        "    img = np.asarray(img)\n",
        "    img = img[:, :, :3]\n",
        "    X.append(img)\n",
        "\n",
        "X = np.asarray(X)\n",
        "print(f\"No of Images loaded :{X.shape[0]}\")\n",
        "\n",
        "finish_time = process_time()\n",
        "print(f\"Information: load images into memory took { round(finish_time-start_time, 2) } seconds\")"
      ],
      "execution_count": 6,
      "outputs": [
        {
          "output_type": "stream",
          "text": [
            "Process: loading images into memory ....\n",
            "No of Images loaded :3500\n",
            "Information: load images into memory took 4.37 seconds\n"
          ],
          "name": "stdout"
        }
      ]
    },
    {
      "cell_type": "code",
      "metadata": {
        "colab": {
          "base_uri": "https://localhost:8080/",
          "height": 95
        },
        "id": "XNUjnTdWNTDS",
        "outputId": "aa1d32bb-64b1-45c0-d453-9b19a52bbc3e"
      },
      "source": [
        "idx = 600\n",
        "plt.imshow(X[idx])\n",
        "plt.title(contents[idx])"
      ],
      "execution_count": 7,
      "outputs": [
        {
          "output_type": "execute_result",
          "data": {
            "text/plain": [
              "Text(0.5, 1.0, 'BASKET-HILTED FISHPOLES COLLUSIVE')"
            ]
          },
          "metadata": {
            "tags": []
          },
          "execution_count": 7
        },
        {
          "output_type": "display_data",
          "data": {
            "image/png": "[encoded data removed]",
            "text/plain": [
              "<Figure size 432x288 with 1 Axes>"
            ]
          },
          "metadata": {
            "tags": [],
            "needs_background": "light"
          }
        }
      ]
    },
    {
      "cell_type": "code",
      "metadata": {
        "colab": {
          "base_uri": "https://localhost:8080/"
        },
        "id": "i-I-edMyeV6l",
        "outputId": "eb6e1c3b-f267-4d91-c521-d3f0bb2501b2"
      },
      "source": [
        "symbols = f\" {string.ascii_letters}{string.digits}.,*&!@~():`^]';|-\"\n",
        "\n",
        "MAX_CHAR = 49\n",
        "SYMBOLS_COUNT = len(symbols)\n",
        "IMG_COUNT = len(X)\n",
        "CHANNELS = 3\n",
        " \n",
        "print(f\"Characters : {symbols}\")\n",
        "print(f\"No of chars : {SYMBOLS_COUNT}\")\n",
        "print(f\"No of chars : {IMG_COUNT}\")"
      ],
      "execution_count": 25,
      "outputs": [
        {
          "output_type": "stream",
          "text": [
            "Characters :  abcdefghijklmnopqrstuvwxyzABCDEFGHIJKLMNOPQRSTUVWXYZ0123456789.,*&!@~():`^]';|-\n",
            "No of chars : 80\n",
            "No of chars : 3500\n"
          ],
          "name": "stdout"
        }
      ]
    },
    {
      "cell_type": "code",
      "metadata": {
        "trusted": true,
        "id": "bTXga1Jtwk3V"
      },
      "source": [
        "y_shape = (IMG_COUNT, MAX_CHAR, SYMBOLS_COUNT) \n",
        "Y = np.zeros(shape=y_shape) \n",
        "\n",
        "for example_no, name in enumerate(contents): #index, sentence\n",
        "    for letter_no, letter in enumerate(name): #iterate through sentence\n",
        "        try:\n",
        "            Y[example_no][letter_no][symbols.index(letter)]=1\n",
        "        except:\n",
        "            print(letter, end=\" \")"
      ],
      "execution_count": 9,
      "outputs": []
    },
    {
      "cell_type": "code",
      "metadata": {
        "id": "vQPBkG_VoyPd"
      },
      "source": [
        "X, Y, filenames, contents = shuffle(X, Y, filenames, contents, random_state=1)"
      ],
      "execution_count": 10,
      "outputs": []
    },
    {
      "cell_type": "code",
      "metadata": {
        "id": "FWP0aunWWgQG"
      },
      "source": [
        "# from sklearn.model_selection import train_test_split\n",
        "# X_train, X_test, Y_train, Y_test = train_test_split(X, Y, test_size=0.2)"
      ],
      "execution_count": 12,
      "outputs": []
    },
    {
      "cell_type": "code",
      "metadata": {
        "colab": {
          "base_uri": "https://localhost:8080/"
        },
        "id": "_49dsPcITuSw",
        "outputId": "440d5c37-0cce-4b72-f084-d576cad7dcc1"
      },
      "source": [
        "# \n",
        "# X_train = np.reshape(X_train, (X.shape[0], X.shape[1], X.shape[2], CHANNELS))\n",
        "# X_test = np.reshape(X_train, X_train.shape)\n",
        "# print(\"Shape of X is :\",X.shape)"
      ],
      "execution_count": 258,
      "outputs": [
        {
          "output_type": "stream",
          "text": [
            "Shape of X is : (3500, 32, 784, 3)\n"
          ],
          "name": "stdout"
        }
      ]
    },
    {
      "cell_type": "code",
      "metadata": {
        "colab": {
          "base_uri": "https://localhost:8080/"
        },
        "id": "Ypo5X5FgajdJ",
        "outputId": "9e4ac63c-2e75-4842-b8a2-085ace1106d9"
      },
      "source": [
        "X.shape"
      ],
      "execution_count": 27,
      "outputs": [
        {
          "output_type": "execute_result",
          "data": {
            "text/plain": [
              "(3500, 32, 784, 3)"
            ]
          },
          "metadata": {
            "tags": []
          },
          "execution_count": 27
        }
      ]
    },
    {
      "cell_type": "code",
      "metadata": {
        "colab": {
          "base_uri": "https://localhost:8080/"
        },
        "id": "Kja9xzz1URlE",
        "outputId": "2a0212a7-e241-4490-c632-cf76e6ab4a8a"
      },
      "source": [
        "idx = np.where(Y[0][0] == 1)[0][0]\n",
        "print(idx)\n",
        "print(contents[0])\n",
        "print(symbols[idx])"
      ],
      "execution_count": 22,
      "outputs": [
        {
          "output_type": "stream",
          "text": [
            "29\n",
            "Celtism monostely\n",
            "C\n"
          ],
          "name": "stdout"
        }
      ]
    },
    {
      "cell_type": "code",
      "metadata": {
        "trusted": true,
        "id": "P53FIhY2wk3X"
      },
      "source": [
        "def OCRModel():\n",
        "    img   = Input((X.shape[1], X.shape[2], CHANNELS))\n",
        "    conv1 = Conv2D(16,(3,3), activation='relu', padding='same')(img)\n",
        "    mp1   = MaxPool2D((2,2), padding='same')(conv1)\n",
        "    conv2 = Conv2D(32,(3,3), activation='relu', padding='same')(mp1)\n",
        "    mp2   = MaxPool2D((2,2), padding='same')(conv2)\n",
        "    conv3 = Conv2D(64,(3,3), activation='relu', padding='same')(mp2)\n",
        "    mp3   = MaxPool2D((2,2), padding='same')(conv3)\n",
        "    conv4 = Conv2D(128,(3,3), activation='relu', padding='same')(mp3)\n",
        "    mp4   = MaxPool2D((2,2), padding='same')(conv4)\n",
        "    conv5 = Conv2D(256,(3,3), activation='relu', padding='same')(mp4)\n",
        "    mp5   = MaxPool2D((2,1), padding='same')(conv5)\n",
        "    conv6 = Conv2D(256,(3,3), activation='relu', padding='same')(mp5)\n",
        "    mp6 = MaxPool2D((1,3), padding='same')(conv6)\n",
        "    bn1   = BatchNormalization()(conv6)\n",
        "    sq    = tf.squeeze(bn1, axis=1)\n",
        "\n",
        "    rn1   = Bidirectional(LSTM(256,return_sequences=True))(sq)\n",
        "    rn2   = Bidirectional(LSTM(256,return_sequences=True))(rn1)\n",
        "\n",
        "    exd     = tf.expand_dims(rn2,axis=2)\n",
        "    mapping = Conv2D(len(symbols),(2,2), activation='relu',padding='same')(exd)\n",
        "    mapping = tf.squeeze(mapping,axis=2)\n",
        "    mapping = Softmax()(mapping)\n",
        "\n",
        "    # bn = keras.layers.BatchNormalization()(conv3)\n",
        "    model   = keras.Model(img,mapping)\n",
        "    model.compile(loss='categorical_crossentropy', optimizer='adam', metrics=['accuracy'])\n",
        "    \n",
        "    return model\n"
      ],
      "execution_count": 23,
      "outputs": []
    },
    {
      "cell_type": "code",
      "metadata": {
        "colab": {
          "base_uri": "https://localhost:8080/"
        },
        "id": "G6sMpiCNu7K3",
        "outputId": "609d84fe-7330-4cdb-cd43-e2a9eb101e0e"
      },
      "source": [
        "OCR = OCRModel()\n",
        "OCR.summary()"
      ],
      "execution_count": 26,
      "outputs": [
        {
          "output_type": "stream",
          "text": [
            "Model: \"model\"\n",
            "_________________________________________________________________\n",
            "Layer (type)                 Output Shape              Param #   \n",
            "=================================================================\n",
            "input_1 (InputLayer)         [(None, 32, 784, 3)]      0         \n",
            "_________________________________________________________________\n",
            "conv2d (Conv2D)              (None, 32, 784, 16)       448       \n",
            "_________________________________________________________________\n",
            "max_pooling2d (MaxPooling2D) (None, 16, 392, 16)       0         \n",
            "_________________________________________________________________\n",
            "conv2d_1 (Conv2D)            (None, 16, 392, 32)       4640      \n",
            "_________________________________________________________________\n",
            "max_pooling2d_1 (MaxPooling2 (None, 8, 196, 32)        0         \n",
            "_________________________________________________________________\n",
            "conv2d_2 (Conv2D)            (None, 8, 196, 64)        18496     \n",
            "_________________________________________________________________\n",
            "max_pooling2d_2 (MaxPooling2 (None, 4, 98, 64)         0         \n",
            "_________________________________________________________________\n",
            "conv2d_3 (Conv2D)            (None, 4, 98, 128)        73856     \n",
            "_________________________________________________________________\n",
            "max_pooling2d_3 (MaxPooling2 (None, 2, 49, 128)        0         \n",
            "_________________________________________________________________\n",
            "conv2d_4 (Conv2D)            (None, 2, 49, 256)        295168    \n",
            "_________________________________________________________________\n",
            "max_pooling2d_4 (MaxPooling2 (None, 1, 49, 256)        0         \n",
            "_________________________________________________________________\n",
            "conv2d_5 (Conv2D)            (None, 1, 49, 256)        590080    \n",
            "_________________________________________________________________\n",
            "batch_normalization (BatchNo (None, 1, 49, 256)        1024      \n",
            "_________________________________________________________________\n",
            "tf.compat.v1.squeeze (TFOpLa (None, 49, 256)           0         \n",
            "_________________________________________________________________\n",
            "bidirectional (Bidirectional (None, 49, 512)           1050624   \n",
            "_________________________________________________________________\n",
            "bidirectional_1 (Bidirection (None, 49, 512)           1574912   \n",
            "_________________________________________________________________\n",
            "tf.expand_dims (TFOpLambda)  (None, 49, 1, 512)        0         \n",
            "_________________________________________________________________\n",
            "conv2d_6 (Conv2D)            (None, 49, 1, 80)         163920    \n",
            "_________________________________________________________________\n",
            "tf.compat.v1.squeeze_1 (TFOp (None, 49, 80)            0         \n",
            "_________________________________________________________________\n",
            "softmax (Softmax)            (None, 49, 80)            0         \n",
            "=================================================================\n",
            "Total params: 3,773,168\n",
            "Trainable params: 3,772,656\n",
            "Non-trainable params: 512\n",
            "_________________________________________________________________\n"
          ],
          "name": "stdout"
        }
      ]
    },
    {
      "cell_type": "code",
      "metadata": {
        "id": "PWkGUzHYZ7x0"
      },
      "source": [
        "class AccCallback(tf.keras.callbacks.Callback):\n",
        "  def on_epoch_end(self, epoch, logs={}):\n",
        "    if(logs.get('accuracy') > 0.998):\n",
        "      self.model.stop_training = True\n",
        "\n",
        "    if(logs.get('val_accuracy') > 0.95):\n",
        "      self.model.stop_training = True\n",
        "\n",
        "callback = AccCallback()"
      ],
      "execution_count": 31,
      "outputs": []
    },
    {
      "cell_type": "code",
      "metadata": {
        "trusted": true,
        "colab": {
          "base_uri": "https://localhost:8080/"
        },
        "id": "jUmKqcJ-wk3Y",
        "outputId": "427d8047-23d6-49e0-d45c-963c37d288a0"
      },
      "source": [
        "OCR = OCRModel()\n",
        "history = OCR.fit(X, Y, \n",
        "                  validation_split = 0.2,\n",
        "                  epochs = 50,\n",
        "                  callbacks=[callback])"
      ],
      "execution_count": 32,
      "outputs": [
        {
          "output_type": "stream",
          "text": [
            "Epoch 1/50\n",
            " 6/88 [=>............................] - ETA: 10s - loss: 1.5265 - accuracy: 0.0662WARNING:tensorflow:Callback method `on_train_batch_end` is slow compared to the batch time (batch time: 0.0613s vs `on_train_batch_end` time: 0.0671s). Check your callbacks.\n",
            "88/88 [==============================] - 18s 139ms/step - loss: 1.4554 - accuracy: 0.4545 - val_loss: 1.5299 - val_accuracy: 0.0257\n",
            "Epoch 2/50\n",
            "88/88 [==============================] - 10s 118ms/step - loss: 1.3453 - accuracy: 0.5205 - val_loss: 1.4869 - val_accuracy: 0.1954\n",
            "Epoch 3/50\n",
            "88/88 [==============================] - 10s 119ms/step - loss: 1.3085 - accuracy: 0.5372 - val_loss: 1.8306 - val_accuracy: 0.2430\n",
            "Epoch 4/50\n",
            "88/88 [==============================] - 10s 119ms/step - loss: 1.3035 - accuracy: 0.5445 - val_loss: 1.5195 - val_accuracy: 0.4026\n",
            "Epoch 5/50\n",
            "88/88 [==============================] - 10s 119ms/step - loss: 1.2859 - accuracy: 0.5581 - val_loss: 1.6448 - val_accuracy: 0.6238\n",
            "Epoch 6/50\n",
            "88/88 [==============================] - 10s 119ms/step - loss: 1.2700 - accuracy: 0.5503 - val_loss: 1.6438 - val_accuracy: 0.6150\n",
            "Epoch 7/50\n",
            "88/88 [==============================] - 10s 119ms/step - loss: 1.2613 - accuracy: 0.5560 - val_loss: 1.5405 - val_accuracy: 0.6280\n",
            "Epoch 8/50\n",
            "88/88 [==============================] - 11s 119ms/step - loss: 1.2520 - accuracy: 0.5631 - val_loss: 1.4320 - val_accuracy: 0.6311\n",
            "Epoch 9/50\n",
            "88/88 [==============================] - 10s 119ms/step - loss: 1.2473 - accuracy: 0.5630 - val_loss: 1.3095 - val_accuracy: 0.4595\n",
            "Epoch 10/50\n",
            "88/88 [==============================] - 11s 120ms/step - loss: 1.2288 - accuracy: 0.5695 - val_loss: 1.3211 - val_accuracy: 0.5880\n",
            "Epoch 11/50\n",
            "88/88 [==============================] - 10s 118ms/step - loss: 1.2234 - accuracy: 0.5724 - val_loss: 1.2921 - val_accuracy: 0.4627\n",
            "Epoch 12/50\n",
            "88/88 [==============================] - 10s 118ms/step - loss: 1.2092 - accuracy: 0.5672 - val_loss: 1.3725 - val_accuracy: 0.3257\n",
            "Epoch 13/50\n",
            "88/88 [==============================] - 10s 118ms/step - loss: 1.1965 - accuracy: 0.5705 - val_loss: 1.4845 - val_accuracy: 0.6312\n",
            "Epoch 14/50\n",
            "88/88 [==============================] - 10s 118ms/step - loss: 1.1927 - accuracy: 0.5832 - val_loss: 1.3615 - val_accuracy: 0.2888\n",
            "Epoch 15/50\n",
            "88/88 [==============================] - 10s 118ms/step - loss: 1.1579 - accuracy: 0.5922 - val_loss: 1.3315 - val_accuracy: 0.6382\n",
            "Epoch 16/50\n",
            "88/88 [==============================] - 10s 118ms/step - loss: 1.1434 - accuracy: 0.5959 - val_loss: 1.3167 - val_accuracy: 0.6095\n",
            "Epoch 17/50\n",
            "88/88 [==============================] - 10s 118ms/step - loss: 1.1232 - accuracy: 0.6002 - val_loss: 1.2086 - val_accuracy: 0.5848\n",
            "Epoch 18/50\n",
            "88/88 [==============================] - 10s 118ms/step - loss: 1.1028 - accuracy: 0.6016 - val_loss: 1.4565 - val_accuracy: 0.6355\n",
            "Epoch 19/50\n",
            "88/88 [==============================] - 10s 119ms/step - loss: 1.0760 - accuracy: 0.6135 - val_loss: 1.2638 - val_accuracy: 0.4559\n",
            "Epoch 20/50\n",
            "88/88 [==============================] - 10s 119ms/step - loss: 1.0568 - accuracy: 0.6187 - val_loss: 1.2357 - val_accuracy: 0.6227\n",
            "Epoch 21/50\n",
            "88/88 [==============================] - 10s 119ms/step - loss: 1.0335 - accuracy: 0.6207 - val_loss: 1.1684 - val_accuracy: 0.5790\n",
            "Epoch 22/50\n",
            "88/88 [==============================] - 10s 118ms/step - loss: 0.9979 - accuracy: 0.6308 - val_loss: 1.2301 - val_accuracy: 0.6296\n",
            "Epoch 23/50\n",
            "88/88 [==============================] - 10s 118ms/step - loss: 0.9761 - accuracy: 0.6325 - val_loss: 1.2049 - val_accuracy: 0.6345\n",
            "Epoch 24/50\n",
            "88/88 [==============================] - 10s 118ms/step - loss: 0.9341 - accuracy: 0.6478 - val_loss: 1.2894 - val_accuracy: 0.4986\n",
            "Epoch 25/50\n",
            "88/88 [==============================] - 10s 118ms/step - loss: 0.9349 - accuracy: 0.6410 - val_loss: 1.1876 - val_accuracy: 0.5920\n",
            "Epoch 26/50\n",
            "88/88 [==============================] - 10s 118ms/step - loss: 0.8887 - accuracy: 0.6553 - val_loss: 1.2918 - val_accuracy: 0.5572\n",
            "Epoch 27/50\n",
            "88/88 [==============================] - 10s 119ms/step - loss: 0.8463 - accuracy: 0.6711 - val_loss: 1.1893 - val_accuracy: 0.5963\n",
            "Epoch 28/50\n",
            "88/88 [==============================] - 10s 119ms/step - loss: 0.7963 - accuracy: 0.6890 - val_loss: 1.1893 - val_accuracy: 0.5966\n",
            "Epoch 29/50\n",
            "88/88 [==============================] - 10s 119ms/step - loss: 0.7510 - accuracy: 0.7020 - val_loss: 1.2242 - val_accuracy: 0.5520\n",
            "Epoch 30/50\n",
            "88/88 [==============================] - 10s 119ms/step - loss: 0.7133 - accuracy: 0.7150 - val_loss: 1.3928 - val_accuracy: 0.5767\n",
            "Epoch 31/50\n",
            "88/88 [==============================] - 10s 119ms/step - loss: 0.7009 - accuracy: 0.7178 - val_loss: 1.2379 - val_accuracy: 0.6350\n",
            "Epoch 32/50\n",
            "88/88 [==============================] - 10s 119ms/step - loss: 0.6463 - accuracy: 0.7362 - val_loss: 1.2490 - val_accuracy: 0.6303\n",
            "Epoch 33/50\n",
            "88/88 [==============================] - 10s 119ms/step - loss: 0.5856 - accuracy: 0.7597 - val_loss: 1.3065 - val_accuracy: 0.6482\n",
            "Epoch 34/50\n",
            "88/88 [==============================] - 10s 119ms/step - loss: 0.5594 - accuracy: 0.7681 - val_loss: 1.3087 - val_accuracy: 0.6004\n",
            "Epoch 35/50\n",
            "88/88 [==============================] - 10s 118ms/step - loss: 0.5189 - accuracy: 0.7796 - val_loss: 1.3155 - val_accuracy: 0.6231\n",
            "Epoch 36/50\n",
            "88/88 [==============================] - 10s 119ms/step - loss: 0.4570 - accuracy: 0.8020 - val_loss: 1.3604 - val_accuracy: 0.6344\n",
            "Epoch 37/50\n",
            "88/88 [==============================] - 10s 118ms/step - loss: 0.4242 - accuracy: 0.8191 - val_loss: 1.4999 - val_accuracy: 0.5401\n",
            "Epoch 38/50\n",
            "88/88 [==============================] - 10s 118ms/step - loss: 0.3914 - accuracy: 0.8279 - val_loss: 1.4088 - val_accuracy: 0.6294\n",
            "Epoch 39/50\n",
            "88/88 [==============================] - 10s 119ms/step - loss: 0.3463 - accuracy: 0.8475 - val_loss: 1.4356 - val_accuracy: 0.6211\n",
            "Epoch 40/50\n",
            "88/88 [==============================] - 10s 118ms/step - loss: 0.3128 - accuracy: 0.8615 - val_loss: 1.4882 - val_accuracy: 0.6376\n",
            "Epoch 41/50\n",
            "88/88 [==============================] - 10s 118ms/step - loss: 0.2802 - accuracy: 0.8737 - val_loss: 1.5349 - val_accuracy: 0.6493\n",
            "Epoch 42/50\n",
            "88/88 [==============================] - 10s 118ms/step - loss: 0.2462 - accuracy: 0.8886 - val_loss: 1.5606 - val_accuracy: 0.6474\n",
            "Epoch 43/50\n",
            "88/88 [==============================] - 10s 118ms/step - loss: 0.2396 - accuracy: 0.8892 - val_loss: 1.5776 - val_accuracy: 0.6192\n",
            "Epoch 44/50\n",
            "88/88 [==============================] - 10s 118ms/step - loss: 0.2026 - accuracy: 0.9051 - val_loss: 1.6112 - val_accuracy: 0.6299\n",
            "Epoch 45/50\n",
            "88/88 [==============================] - 10s 118ms/step - loss: 0.1848 - accuracy: 0.9111 - val_loss: 1.6794 - val_accuracy: 0.6092\n",
            "Epoch 46/50\n",
            "88/88 [==============================] - 10s 118ms/step - loss: 0.1838 - accuracy: 0.9119 - val_loss: 1.6929 - val_accuracy: 0.6248\n",
            "Epoch 47/50\n",
            "88/88 [==============================] - 10s 118ms/step - loss: 0.1547 - accuracy: 0.9226 - val_loss: 1.7080 - val_accuracy: 0.6390\n",
            "Epoch 48/50\n",
            "88/88 [==============================] - 10s 118ms/step - loss: 0.1298 - accuracy: 0.9340 - val_loss: 1.7187 - val_accuracy: 0.6455\n",
            "Epoch 49/50\n",
            "88/88 [==============================] - 10s 119ms/step - loss: 0.1098 - accuracy: 0.9418 - val_loss: 1.7271 - val_accuracy: 0.6366\n",
            "Epoch 50/50\n",
            "88/88 [==============================] - 10s 117ms/step - loss: 0.1001 - accuracy: 0.9456 - val_loss: 1.8222 - val_accuracy: 0.6112\n"
          ],
          "name": "stdout"
        }
      ]
    },
    {
      "cell_type": "code",
      "metadata": {
        "id": "UIQnvAoMpCxn"
      },
      "source": [
        "from keras.utils.vis_utils import plot_model\n",
        "plot_model(OCR, to_file='gan_plot.png', show_shapes=True, show_layer_names=True)"
      ],
      "execution_count": null,
      "outputs": []
    },
    {
      "cell_type": "code",
      "metadata": {
        "trusted": true,
        "id": "KOng71uUwk3Z"
      },
      "source": [
        "pred = OCR.predict(X)"
      ],
      "execution_count": 42,
      "outputs": []
    },
    {
      "cell_type": "code",
      "metadata": {
        "colab": {
          "base_uri": "https://localhost:8080/",
          "height": 169
        },
        "id": "qEcyZhQ_sVWr",
        "outputId": "0308efee-3e83-42d8-80de-58429ea3c145"
      },
      "source": [
        "count = 0\n",
        "index = 1\n",
        "for idx in range(len(pred)):\n",
        "  c = \"\"\n",
        "  for i in range(MAX_CHAR):\n",
        "      c += symbols[np.argmax(pred[idx][i])]\n",
        "      # print(c)\n",
        "  if c[:-1].strip() == contents[idx].strip():\n",
        "    count += 1\n",
        "\n",
        "print(count)\n",
        "print(f\"Correctly predicted: { round(count/len(pred), 2) * 100 }%\" )\n",
        "\n",
        "print(\"predicted:\",c.strip())\n",
        "print(\"\\nOriginal:\",contents[idx])\n",
        "plt.imshow(X[idx][:,:,:3])\n"
      ],
      "execution_count": 65,
      "outputs": [
        {
          "output_type": "stream",
          "text": [
            "83\n",
            "Correctly predicted: 2.0%\n",
            "predicted: HYTEEHHVAALEEE  TTIIINSSSSSS\n",
            "\n",
            "Original: HYPERVITALIZED HALTINGNESS\n"
          ],
          "name": "stdout"
        },
        {
          "output_type": "execute_result",
          "data": {
            "text/plain": [
              "<matplotlib.image.AxesImage at 0x7ff96822d5d0>"
            ]
          },
          "metadata": {
            "tags": []
          },
          "execution_count": 65
        },
        {
          "output_type": "display_data",
          "data": {
            "image/png": "[encoded data removed]",
            "text/plain": [
              "<Figure size 432x288 with 1 Axes>"
            ]
          },
          "metadata": {
            "tags": [],
            "needs_background": "light"
          }
        }
      ]
    },
    {
      "cell_type": "code",
      "metadata": {
        "colab": {
          "base_uri": "https://localhost:8080/",
          "height": 152
        },
        "id": "qc0ukVRShhG8",
        "outputId": "b3e8d1ab-3964-48f3-9b21-e476af65c28f"
      },
      "source": [
        "index = 15\n",
        "c=\"\"\n",
        "print(len(pred[0]))\n",
        "for i in range(len(pred[0])):\n",
        "    c=c+(symbols[np.argmax(pred[index][i])])\n",
        "    # print(c)\n",
        "print(\"predicted:\",c.strip())\n",
        "print(\"\\nOrignal:\",contents[index])\n",
        "plt.imshow(X[index][:,:,:3])"
      ],
      "execution_count": 62,
      "outputs": [
        {
          "output_type": "stream",
          "text": [
            "49\n",
            "predicted: THELYBLAST NATIONALTYY\n",
            "\n",
            "Orignal: THELYBLAST NATIONALTY\n"
          ],
          "name": "stdout"
        },
        {
          "output_type": "execute_result",
          "data": {
            "text/plain": [
              "<matplotlib.image.AxesImage at 0x7ff968374950>"
            ]
          },
          "metadata": {
            "tags": []
          },
          "execution_count": 62
        },
        {
          "output_type": "display_data",
          "data": {
            "image/png": "[encoded data removed]",
            "text/plain": [
              "<Figure size 432x288 with 1 Axes>"
            ]
          },
          "metadata": {
            "tags": [],
            "needs_background": "light"
          }
        }
      ]
    },
    {
      "cell_type": "code",
      "metadata": {
        "id": "Y5YS4gmbhZd7"
      },
      "source": [
        ""
      ],
      "execution_count": null,
      "outputs": []
    },
    {
      "cell_type": "code",
      "metadata": {
        "colab": {
          "base_uri": "https://localhost:8080/"
        },
        "id": "fjhYNhaZCDnl",
        "outputId": "7a25d5e3-2547-4d32-efa6-2fe7590a75aa"
      },
      "source": [
        "count = 0\n",
        "for i in range(len(contents)):\n",
        "  if c.strip() == contents[index].strip():\n",
        "    count += 1\n",
        "count"
      ],
      "execution_count": null,
      "outputs": [
        {
          "output_type": "execute_result",
          "data": {
            "text/plain": [
              "0"
            ]
          },
          "metadata": {
            "tags": []
          },
          "execution_count": 142
        }
      ]
    },
    {
      "cell_type": "code",
      "metadata": {
        "id": "mtLj6cQFbP7p"
      },
      "source": [
        "acc = history.history['accuracy']\n",
        "val_acc = history.history['val_accuracy']\n",
        "loss = history.history['loss']\n",
        "val_loss = history.history['val_loss']\n",
        "\n",
        "epochs = range(len(acc))\n",
        "\n",
        "plt.plot(epochs, acc, 'r', label='Training accuracy')\n",
        "plt.plot(epochs, val_acc, 'b', label='Validation accuracy')\n",
        "plt.title('Training and validation accuracy')\n",
        "plt.legend(loc=0)\n",
        "plt.figure()\n",
        "\n",
        "\n",
        "plt.show()"
      ],
      "execution_count": null,
      "outputs": []
    },
    {
      "cell_type": "code",
      "metadata": {
        "colab": {
          "base_uri": "https://localhost:8080/",
          "height": 573
        },
        "id": "uJNqYh-oDwA1",
        "outputId": "387e575a-33e8-4290-99b0-d2f7f150b69f"
      },
      "source": [
        "# summarize history for accuracy\n",
        "plt.plot(history.history['accuracy'])\n",
        "plt.title('model accuracy')\n",
        "plt.ylabel('accuracy')\n",
        "plt.xlabel('epoch')\n",
        "plt.show()\n",
        "# summarize history for loss\n",
        "plt.plot(history.history['loss'])\n",
        "plt.title('model loss')\n",
        "plt.ylabel('loss')\n",
        "plt.xlabel('epoch')\n",
        "plt.show()"
      ],
      "execution_count": null,
      "outputs": [
        {
          "output_type": "display_data",
          "data": {
            "image/png": "[encoded data removed]",
            "text/plain": [
              "<Figure size 432x288 with 1 Axes>"
            ]
          },
          "metadata": {
            "tags": [],
            "needs_background": "light"
          }
        },
        {
          "output_type": "display_data",
          "data": {
            "image/png": "[encoded data removed]",
            "text/plain": [
              "<Figure size 432x288 with 1 Axes>"
            ]
          },
          "metadata": {
            "tags": [],
            "needs_background": "light"
          }
        }
      ]
    }
  ]
}